{
  "cells": [
    {
      "cell_type": "markdown",
      "metadata": {
        "id": "view-in-github",
        "colab_type": "text"
      },
      "source": [
        "<a href=\"https://colab.research.google.com/github/yonilev2003/Predicting-Drinking-Habits-of-OKcupid-Users/blob/main/Predicting_Drinking_Habits_on_OKcupid_Users.ipynb\" target=\"_parent\"><img src=\"https://colab.research.google.com/assets/colab-badge.svg\" alt=\"Open In Colab\"/></a>"
      ]
    },
    {
      "cell_type": "markdown",
      "metadata": {
        "id": "Ib5chv1Ajr-t"
      },
      "source": [
        "# Introduction\n",
        "\n",
        "*“In fiction: we find the predictable boring. In real life: we find the unpredictable terrifying.”* (Mokokoma Mokhonoana).\n",
        "\n",
        "Machine Learning, just like Psychology, proves how predictable people are. Psychologists and data scientists alike have been describing the world using patterns, tendencies, and trying to understand the mind and personality of the everyday average person.\n",
        "\n",
        "In my project, I built ML models to try and predict drinking habits based on a dataset of OKcupid users. Most people that stumble upon this dataset build a 98% accuracy model to predict religion. However, I wanted to try and understand people's habits and whether we can or can not predict based on their age, orientation, education, smoking habits, etc."
      ]
    },
    {
      "cell_type": "code",
      "execution_count": null,
      "metadata": {
        "colab": {
          "base_uri": "https://localhost:8080/"
        },
        "id": "OVhYwL_ctYvH",
        "outputId": "e2b3ba22-109a-4447-d77a-06cad7d67a0b"
      },
      "outputs": [
        {
          "name": "stdout",
          "output_type": "stream",
          "text": [
            "Requirement already satisfied: kaggle in /usr/local/lib/python3.10/dist-packages (1.5.16)\n",
            "Requirement already satisfied: six>=1.10 in /usr/local/lib/python3.10/dist-packages (from kaggle) (1.16.0)\n",
            "Requirement already satisfied: certifi in /usr/local/lib/python3.10/dist-packages (from kaggle) (2024.2.2)\n",
            "Requirement already satisfied: python-dateutil in /usr/local/lib/python3.10/dist-packages (from kaggle) (2.8.2)\n",
            "Requirement already satisfied: requests in /usr/local/lib/python3.10/dist-packages (from kaggle) (2.31.0)\n",
            "Requirement already satisfied: tqdm in /usr/local/lib/python3.10/dist-packages (from kaggle) (4.66.2)\n",
            "Requirement already satisfied: python-slugify in /usr/local/lib/python3.10/dist-packages (from kaggle) (8.0.4)\n",
            "Requirement already satisfied: urllib3 in /usr/local/lib/python3.10/dist-packages (from kaggle) (2.0.7)\n",
            "Requirement already satisfied: bleach in /usr/local/lib/python3.10/dist-packages (from kaggle) (6.1.0)\n",
            "Requirement already satisfied: webencodings in /usr/local/lib/python3.10/dist-packages (from bleach->kaggle) (0.5.1)\n",
            "Requirement already satisfied: text-unidecode>=1.3 in /usr/local/lib/python3.10/dist-packages (from python-slugify->kaggle) (1.3)\n",
            "Requirement already satisfied: charset-normalizer<4,>=2 in /usr/local/lib/python3.10/dist-packages (from requests->kaggle) (3.3.2)\n",
            "Requirement already satisfied: idna<4,>=2.5 in /usr/local/lib/python3.10/dist-packages (from requests->kaggle) (3.6)\n"
          ]
        }
      ],
      "source": [
        "# Installing Kaggle API\n",
        "! pip install kaggle"
      ]
    },
    {
      "cell_type": "code",
      "execution_count": null,
      "metadata": {
        "id": "XD3DOMGGf-4f"
      },
      "outputs": [],
      "source": [
        "# Installing\n",
        "import os\n",
        "import pandas as pd\n",
        "import numpy as np\n",
        "import matplotlib.pyplot as plt\n",
        "import seaborn as sns\n",
        "import os\n",
        "from scipy import stats\n",
        "from sklearn.model_selection import train_test_split\n",
        "from sklearn.compose import ColumnTransformer\n",
        "from sklearn.preprocessing import StandardScaler, OneHotEncoder\n",
        "from sklearn.pipeline import Pipeline\n",
        "from sklearn.decomposition import TruncatedSVD\n",
        "from sklearn.ensemble import RandomForestClassifier\n",
        "from sklearn.metrics import precision_score, recall_score, f1_score, confusion_matrix, roc_curve, auc\n",
        "from sklearn.model_selection import GridSearchCV\n",
        "from sklearn.ensemble import VotingClassifier, GradientBoostingClassifier\n",
        "from sklearn.linear_model import LogisticRegression\n",
        "from sklearn.metrics import accuracy_score"
      ]
    },
    {
      "cell_type": "code",
      "execution_count": null,
      "metadata": {
        "id": "XwhDyFNJgBTV"
      },
      "outputs": [],
      "source": [
        "# Setting Kaggle API credentials\n",
        "os.environ['KAGGLE_USERNAME'] = 'yonathanlevy'\n",
        "os.environ['KAGGLE_KEY'] = 'd161e19bbcf37f55b9e5a0d6e5497e55'"
      ]
    },
    {
      "cell_type": "code",
      "execution_count": null,
      "metadata": {
        "colab": {
          "base_uri": "https://localhost:8080/"
        },
        "id": "_gaqlPpDgY_-",
        "outputId": "9d4c138b-d9dc-424d-a869-f4489f49da6e"
      },
      "outputs": [
        {
          "name": "stdout",
          "output_type": "stream",
          "text": [
            "Downloading okcupid-profiles.zip to /content\n",
            "100% 50.6M/50.6M [00:00<00:00, 87.7MB/s]\n",
            "100% 50.6M/50.6M [00:00<00:00, 93.2MB/s]\n",
            "Archive:  okcupid-profiles.zip\n",
            "  inflating: okcupid_profiles.csv    \n"
          ]
        }
      ],
      "source": [
        "# Download the dataset from Kaggle\n",
        "!kaggle datasets download -d andrewmvd/okcupid-profiles\n",
        "\n",
        "# Unzip the dataset\n",
        "!unzip -o okcupid-profiles.zip"
      ]
    },
    {
      "cell_type": "code",
      "execution_count": null,
      "metadata": {
        "colab": {
          "base_uri": "https://localhost:8080/",
          "height": 742
        },
        "id": "DvFyzFditdMx",
        "outputId": "a32f98e0-13e8-4ad4-ffda-870b62c04c2b"
      },
      "outputs": [
        {
          "data": {
            "application/vnd.google.colaboratory.intrinsic+json": {
              "type": "dataframe",
              "variable_name": "profiles"
            },
            "text/html": [
              "\n",
              "  <div id=\"df-17f47453-81d7-4bda-8314-f8f4b136a983\" class=\"colab-df-container\">\n",
              "    <div>\n",
              "<style scoped>\n",
              "    .dataframe tbody tr th:only-of-type {\n",
              "        vertical-align: middle;\n",
              "    }\n",
              "\n",
              "    .dataframe tbody tr th {\n",
              "        vertical-align: top;\n",
              "    }\n",
              "\n",
              "    .dataframe thead th {\n",
              "        text-align: right;\n",
              "    }\n",
              "</style>\n",
              "<table border=\"1\" class=\"dataframe\">\n",
              "  <thead>\n",
              "    <tr style=\"text-align: right;\">\n",
              "      <th></th>\n",
              "      <th>age</th>\n",
              "      <th>status</th>\n",
              "      <th>sex</th>\n",
              "      <th>orientation</th>\n",
              "      <th>body_type</th>\n",
              "      <th>diet</th>\n",
              "      <th>drinks</th>\n",
              "      <th>drugs</th>\n",
              "      <th>education</th>\n",
              "      <th>ethnicity</th>\n",
              "      <th>...</th>\n",
              "      <th>essay0</th>\n",
              "      <th>essay1</th>\n",
              "      <th>essay2</th>\n",
              "      <th>essay3</th>\n",
              "      <th>essay4</th>\n",
              "      <th>essay5</th>\n",
              "      <th>essay6</th>\n",
              "      <th>essay7</th>\n",
              "      <th>essay8</th>\n",
              "      <th>essay9</th>\n",
              "    </tr>\n",
              "  </thead>\n",
              "  <tbody>\n",
              "    <tr>\n",
              "      <th>0</th>\n",
              "      <td>22</td>\n",
              "      <td>single</td>\n",
              "      <td>m</td>\n",
              "      <td>straight</td>\n",
              "      <td>a little extra</td>\n",
              "      <td>strictly anything</td>\n",
              "      <td>socially</td>\n",
              "      <td>never</td>\n",
              "      <td>working on college/university</td>\n",
              "      <td>asian, white</td>\n",
              "      <td>...</td>\n",
              "      <td>about me:  i would love to think that i was so...</td>\n",
              "      <td>currently working as an international agent fo...</td>\n",
              "      <td>making people laugh. ranting about a good salt...</td>\n",
              "      <td>the way i look. i am a six foot half asian, ha...</td>\n",
              "      <td>books: absurdistan, the republic, of mice and ...</td>\n",
              "      <td>food. water. cell phone. shelter.</td>\n",
              "      <td>duality and humorous things</td>\n",
              "      <td>trying to find someone to hang out with. i am ...</td>\n",
              "      <td>i am new to california and looking for someone...</td>\n",
              "      <td>you want to be swept off your feet! you are ti...</td>\n",
              "    </tr>\n",
              "    <tr>\n",
              "      <th>1</th>\n",
              "      <td>35</td>\n",
              "      <td>single</td>\n",
              "      <td>m</td>\n",
              "      <td>straight</td>\n",
              "      <td>average</td>\n",
              "      <td>mostly other</td>\n",
              "      <td>often</td>\n",
              "      <td>sometimes</td>\n",
              "      <td>working on space camp</td>\n",
              "      <td>white</td>\n",
              "      <td>...</td>\n",
              "      <td>i am a chef: this is what that means. 1. i am ...</td>\n",
              "      <td>dedicating everyday to being an unbelievable b...</td>\n",
              "      <td>being silly. having ridiculous amonts of fun w...</td>\n",
              "      <td>NaN</td>\n",
              "      <td>i am die hard christopher moore fan. i don't r...</td>\n",
              "      <td>delicious porkness in all of its glories. my b...</td>\n",
              "      <td>NaN</td>\n",
              "      <td>NaN</td>\n",
              "      <td>i am very open and will share just about anyth...</td>\n",
              "      <td>NaN</td>\n",
              "    </tr>\n",
              "    <tr>\n",
              "      <th>2</th>\n",
              "      <td>38</td>\n",
              "      <td>available</td>\n",
              "      <td>m</td>\n",
              "      <td>straight</td>\n",
              "      <td>thin</td>\n",
              "      <td>anything</td>\n",
              "      <td>socially</td>\n",
              "      <td>NaN</td>\n",
              "      <td>graduated from masters program</td>\n",
              "      <td>NaN</td>\n",
              "      <td>...</td>\n",
              "      <td>i'm not ashamed of much, but writing public te...</td>\n",
              "      <td>i make nerdy software for musicians, artists, ...</td>\n",
              "      <td>improvising in different contexts. alternating...</td>\n",
              "      <td>my large jaw and large glasses are the physica...</td>\n",
              "      <td>okay this is where the cultural matrix gets so...</td>\n",
              "      <td>movement conversation creation contemplation t...</td>\n",
              "      <td>NaN</td>\n",
              "      <td>viewing. listening. dancing. talking. drinking...</td>\n",
              "      <td>when i was five years old, i was known as \"the...</td>\n",
              "      <td>you are bright, open, intense, silly, ironic, ...</td>\n",
              "    </tr>\n",
              "    <tr>\n",
              "      <th>3</th>\n",
              "      <td>23</td>\n",
              "      <td>single</td>\n",
              "      <td>m</td>\n",
              "      <td>straight</td>\n",
              "      <td>thin</td>\n",
              "      <td>vegetarian</td>\n",
              "      <td>socially</td>\n",
              "      <td>NaN</td>\n",
              "      <td>working on college/university</td>\n",
              "      <td>white</td>\n",
              "      <td>...</td>\n",
              "      <td>i work in a library and go to school. . .</td>\n",
              "      <td>reading things written by old dead people</td>\n",
              "      <td>playing synthesizers and organizing books acco...</td>\n",
              "      <td>socially awkward but i do my best</td>\n",
              "      <td>bataille, celine, beckett. . . lynch, jarmusch...</td>\n",
              "      <td>NaN</td>\n",
              "      <td>cats and german philosophy</td>\n",
              "      <td>NaN</td>\n",
              "      <td>NaN</td>\n",
              "      <td>you feel so inclined.</td>\n",
              "    </tr>\n",
              "    <tr>\n",
              "      <th>4</th>\n",
              "      <td>29</td>\n",
              "      <td>single</td>\n",
              "      <td>m</td>\n",
              "      <td>straight</td>\n",
              "      <td>athletic</td>\n",
              "      <td>NaN</td>\n",
              "      <td>socially</td>\n",
              "      <td>never</td>\n",
              "      <td>graduated from college/university</td>\n",
              "      <td>asian, black, other</td>\n",
              "      <td>...</td>\n",
              "      <td>hey how's it going? currently vague on the pro...</td>\n",
              "      <td>work work work work + play</td>\n",
              "      <td>creating imagery to look at: http://bagsbrown....</td>\n",
              "      <td>i smile a lot and my inquisitive nature</td>\n",
              "      <td>music: bands, rappers, musicians at the moment...</td>\n",
              "      <td>NaN</td>\n",
              "      <td>NaN</td>\n",
              "      <td>NaN</td>\n",
              "      <td>NaN</td>\n",
              "      <td>NaN</td>\n",
              "    </tr>\n",
              "  </tbody>\n",
              "</table>\n",
              "<p>5 rows × 31 columns</p>\n",
              "</div>\n",
              "    <div class=\"colab-df-buttons\">\n",
              "\n",
              "  <div class=\"colab-df-container\">\n",
              "    <button class=\"colab-df-convert\" onclick=\"convertToInteractive('df-17f47453-81d7-4bda-8314-f8f4b136a983')\"\n",
              "            title=\"Convert this dataframe to an interactive table.\"\n",
              "            style=\"display:none;\">\n",
              "\n",
              "  <svg xmlns=\"http://www.w3.org/2000/svg\" height=\"24px\" viewBox=\"0 -960 960 960\">\n",
              "    <path d=\"M120-120v-720h720v720H120Zm60-500h600v-160H180v160Zm220 220h160v-160H400v160Zm0 220h160v-160H400v160ZM180-400h160v-160H180v160Zm440 0h160v-160H620v160ZM180-180h160v-160H180v160Zm440 0h160v-160H620v160Z\"/>\n",
              "  </svg>\n",
              "    </button>\n",
              "\n",
              "  <style>\n",
              "    .colab-df-container {\n",
              "      display:flex;\n",
              "      gap: 12px;\n",
              "    }\n",
              "\n",
              "    .colab-df-convert {\n",
              "      background-color: #E8F0FE;\n",
              "      border: none;\n",
              "      border-radius: 50%;\n",
              "      cursor: pointer;\n",
              "      display: none;\n",
              "      fill: #1967D2;\n",
              "      height: 32px;\n",
              "      padding: 0 0 0 0;\n",
              "      width: 32px;\n",
              "    }\n",
              "\n",
              "    .colab-df-convert:hover {\n",
              "      background-color: #E2EBFA;\n",
              "      box-shadow: 0px 1px 2px rgba(60, 64, 67, 0.3), 0px 1px 3px 1px rgba(60, 64, 67, 0.15);\n",
              "      fill: #174EA6;\n",
              "    }\n",
              "\n",
              "    .colab-df-buttons div {\n",
              "      margin-bottom: 4px;\n",
              "    }\n",
              "\n",
              "    [theme=dark] .colab-df-convert {\n",
              "      background-color: #3B4455;\n",
              "      fill: #D2E3FC;\n",
              "    }\n",
              "\n",
              "    [theme=dark] .colab-df-convert:hover {\n",
              "      background-color: #434B5C;\n",
              "      box-shadow: 0px 1px 3px 1px rgba(0, 0, 0, 0.15);\n",
              "      filter: drop-shadow(0px 1px 2px rgba(0, 0, 0, 0.3));\n",
              "      fill: #FFFFFF;\n",
              "    }\n",
              "  </style>\n",
              "\n",
              "    <script>\n",
              "      const buttonEl =\n",
              "        document.querySelector('#df-17f47453-81d7-4bda-8314-f8f4b136a983 button.colab-df-convert');\n",
              "      buttonEl.style.display =\n",
              "        google.colab.kernel.accessAllowed ? 'block' : 'none';\n",
              "\n",
              "      async function convertToInteractive(key) {\n",
              "        const element = document.querySelector('#df-17f47453-81d7-4bda-8314-f8f4b136a983');\n",
              "        const dataTable =\n",
              "          await google.colab.kernel.invokeFunction('convertToInteractive',\n",
              "                                                    [key], {});\n",
              "        if (!dataTable) return;\n",
              "\n",
              "        const docLinkHtml = 'Like what you see? Visit the ' +\n",
              "          '<a target=\"_blank\" href=https://colab.research.google.com/notebooks/data_table.ipynb>data table notebook</a>'\n",
              "          + ' to learn more about interactive tables.';\n",
              "        element.innerHTML = '';\n",
              "        dataTable['output_type'] = 'display_data';\n",
              "        await google.colab.output.renderOutput(dataTable, element);\n",
              "        const docLink = document.createElement('div');\n",
              "        docLink.innerHTML = docLinkHtml;\n",
              "        element.appendChild(docLink);\n",
              "      }\n",
              "    </script>\n",
              "  </div>\n",
              "\n",
              "\n",
              "<div id=\"df-6a4c0161-40db-4fcb-9295-de61f895600d\">\n",
              "  <button class=\"colab-df-quickchart\" onclick=\"quickchart('df-6a4c0161-40db-4fcb-9295-de61f895600d')\"\n",
              "            title=\"Suggest charts\"\n",
              "            style=\"display:none;\">\n",
              "\n",
              "<svg xmlns=\"http://www.w3.org/2000/svg\" height=\"24px\"viewBox=\"0 0 24 24\"\n",
              "     width=\"24px\">\n",
              "    <g>\n",
              "        <path d=\"M19 3H5c-1.1 0-2 .9-2 2v14c0 1.1.9 2 2 2h14c1.1 0 2-.9 2-2V5c0-1.1-.9-2-2-2zM9 17H7v-7h2v7zm4 0h-2V7h2v10zm4 0h-2v-4h2v4z\"/>\n",
              "    </g>\n",
              "</svg>\n",
              "  </button>\n",
              "\n",
              "<style>\n",
              "  .colab-df-quickchart {\n",
              "      --bg-color: #E8F0FE;\n",
              "      --fill-color: #1967D2;\n",
              "      --hover-bg-color: #E2EBFA;\n",
              "      --hover-fill-color: #174EA6;\n",
              "      --disabled-fill-color: #AAA;\n",
              "      --disabled-bg-color: #DDD;\n",
              "  }\n",
              "\n",
              "  [theme=dark] .colab-df-quickchart {\n",
              "      --bg-color: #3B4455;\n",
              "      --fill-color: #D2E3FC;\n",
              "      --hover-bg-color: #434B5C;\n",
              "      --hover-fill-color: #FFFFFF;\n",
              "      --disabled-bg-color: #3B4455;\n",
              "      --disabled-fill-color: #666;\n",
              "  }\n",
              "\n",
              "  .colab-df-quickchart {\n",
              "    background-color: var(--bg-color);\n",
              "    border: none;\n",
              "    border-radius: 50%;\n",
              "    cursor: pointer;\n",
              "    display: none;\n",
              "    fill: var(--fill-color);\n",
              "    height: 32px;\n",
              "    padding: 0;\n",
              "    width: 32px;\n",
              "  }\n",
              "\n",
              "  .colab-df-quickchart:hover {\n",
              "    background-color: var(--hover-bg-color);\n",
              "    box-shadow: 0 1px 2px rgba(60, 64, 67, 0.3), 0 1px 3px 1px rgba(60, 64, 67, 0.15);\n",
              "    fill: var(--button-hover-fill-color);\n",
              "  }\n",
              "\n",
              "  .colab-df-quickchart-complete:disabled,\n",
              "  .colab-df-quickchart-complete:disabled:hover {\n",
              "    background-color: var(--disabled-bg-color);\n",
              "    fill: var(--disabled-fill-color);\n",
              "    box-shadow: none;\n",
              "  }\n",
              "\n",
              "  .colab-df-spinner {\n",
              "    border: 2px solid var(--fill-color);\n",
              "    border-color: transparent;\n",
              "    border-bottom-color: var(--fill-color);\n",
              "    animation:\n",
              "      spin 1s steps(1) infinite;\n",
              "  }\n",
              "\n",
              "  @keyframes spin {\n",
              "    0% {\n",
              "      border-color: transparent;\n",
              "      border-bottom-color: var(--fill-color);\n",
              "      border-left-color: var(--fill-color);\n",
              "    }\n",
              "    20% {\n",
              "      border-color: transparent;\n",
              "      border-left-color: var(--fill-color);\n",
              "      border-top-color: var(--fill-color);\n",
              "    }\n",
              "    30% {\n",
              "      border-color: transparent;\n",
              "      border-left-color: var(--fill-color);\n",
              "      border-top-color: var(--fill-color);\n",
              "      border-right-color: var(--fill-color);\n",
              "    }\n",
              "    40% {\n",
              "      border-color: transparent;\n",
              "      border-right-color: var(--fill-color);\n",
              "      border-top-color: var(--fill-color);\n",
              "    }\n",
              "    60% {\n",
              "      border-color: transparent;\n",
              "      border-right-color: var(--fill-color);\n",
              "    }\n",
              "    80% {\n",
              "      border-color: transparent;\n",
              "      border-right-color: var(--fill-color);\n",
              "      border-bottom-color: var(--fill-color);\n",
              "    }\n",
              "    90% {\n",
              "      border-color: transparent;\n",
              "      border-bottom-color: var(--fill-color);\n",
              "    }\n",
              "  }\n",
              "</style>\n",
              "\n",
              "  <script>\n",
              "    async function quickchart(key) {\n",
              "      const quickchartButtonEl =\n",
              "        document.querySelector('#' + key + ' button');\n",
              "      quickchartButtonEl.disabled = true;  // To prevent multiple clicks.\n",
              "      quickchartButtonEl.classList.add('colab-df-spinner');\n",
              "      try {\n",
              "        const charts = await google.colab.kernel.invokeFunction(\n",
              "            'suggestCharts', [key], {});\n",
              "      } catch (error) {\n",
              "        console.error('Error during call to suggestCharts:', error);\n",
              "      }\n",
              "      quickchartButtonEl.classList.remove('colab-df-spinner');\n",
              "      quickchartButtonEl.classList.add('colab-df-quickchart-complete');\n",
              "    }\n",
              "    (() => {\n",
              "      let quickchartButtonEl =\n",
              "        document.querySelector('#df-6a4c0161-40db-4fcb-9295-de61f895600d button');\n",
              "      quickchartButtonEl.style.display =\n",
              "        google.colab.kernel.accessAllowed ? 'block' : 'none';\n",
              "    })();\n",
              "  </script>\n",
              "</div>\n",
              "\n",
              "    </div>\n",
              "  </div>\n"
            ],
            "text/plain": [
              "   age     status sex orientation       body_type               diet  \\\n",
              "0   22     single   m    straight  a little extra  strictly anything   \n",
              "1   35     single   m    straight         average       mostly other   \n",
              "2   38  available   m    straight            thin           anything   \n",
              "3   23     single   m    straight            thin         vegetarian   \n",
              "4   29     single   m    straight        athletic                NaN   \n",
              "\n",
              "     drinks      drugs                          education  \\\n",
              "0  socially      never      working on college/university   \n",
              "1     often  sometimes              working on space camp   \n",
              "2  socially        NaN     graduated from masters program   \n",
              "3  socially        NaN      working on college/university   \n",
              "4  socially      never  graduated from college/university   \n",
              "\n",
              "             ethnicity  ...  \\\n",
              "0         asian, white  ...   \n",
              "1                white  ...   \n",
              "2                  NaN  ...   \n",
              "3                white  ...   \n",
              "4  asian, black, other  ...   \n",
              "\n",
              "                                              essay0  \\\n",
              "0  about me:  i would love to think that i was so...   \n",
              "1  i am a chef: this is what that means. 1. i am ...   \n",
              "2  i'm not ashamed of much, but writing public te...   \n",
              "3          i work in a library and go to school. . .   \n",
              "4  hey how's it going? currently vague on the pro...   \n",
              "\n",
              "                                              essay1  \\\n",
              "0  currently working as an international agent fo...   \n",
              "1  dedicating everyday to being an unbelievable b...   \n",
              "2  i make nerdy software for musicians, artists, ...   \n",
              "3          reading things written by old dead people   \n",
              "4                         work work work work + play   \n",
              "\n",
              "                                              essay2  \\\n",
              "0  making people laugh. ranting about a good salt...   \n",
              "1  being silly. having ridiculous amonts of fun w...   \n",
              "2  improvising in different contexts. alternating...   \n",
              "3  playing synthesizers and organizing books acco...   \n",
              "4  creating imagery to look at: http://bagsbrown....   \n",
              "\n",
              "                                              essay3  \\\n",
              "0  the way i look. i am a six foot half asian, ha...   \n",
              "1                                                NaN   \n",
              "2  my large jaw and large glasses are the physica...   \n",
              "3                  socially awkward but i do my best   \n",
              "4            i smile a lot and my inquisitive nature   \n",
              "\n",
              "                                              essay4  \\\n",
              "0  books: absurdistan, the republic, of mice and ...   \n",
              "1  i am die hard christopher moore fan. i don't r...   \n",
              "2  okay this is where the cultural matrix gets so...   \n",
              "3  bataille, celine, beckett. . . lynch, jarmusch...   \n",
              "4  music: bands, rappers, musicians at the moment...   \n",
              "\n",
              "                                              essay5  \\\n",
              "0                  food. water. cell phone. shelter.   \n",
              "1  delicious porkness in all of its glories. my b...   \n",
              "2  movement conversation creation contemplation t...   \n",
              "3                                                NaN   \n",
              "4                                                NaN   \n",
              "\n",
              "                        essay6  \\\n",
              "0  duality and humorous things   \n",
              "1                          NaN   \n",
              "2                          NaN   \n",
              "3   cats and german philosophy   \n",
              "4                          NaN   \n",
              "\n",
              "                                              essay7  \\\n",
              "0  trying to find someone to hang out with. i am ...   \n",
              "1                                                NaN   \n",
              "2  viewing. listening. dancing. talking. drinking...   \n",
              "3                                                NaN   \n",
              "4                                                NaN   \n",
              "\n",
              "                                              essay8  \\\n",
              "0  i am new to california and looking for someone...   \n",
              "1  i am very open and will share just about anyth...   \n",
              "2  when i was five years old, i was known as \"the...   \n",
              "3                                                NaN   \n",
              "4                                                NaN   \n",
              "\n",
              "                                              essay9  \n",
              "0  you want to be swept off your feet! you are ti...  \n",
              "1                                                NaN  \n",
              "2  you are bright, open, intense, silly, ironic, ...  \n",
              "3                              you feel so inclined.  \n",
              "4                                                NaN  \n",
              "\n",
              "[5 rows x 31 columns]"
            ]
          },
          "execution_count": 5,
          "metadata": {},
          "output_type": "execute_result"
        }
      ],
      "source": [
        "# Loading the dataset\n",
        "profiles = pd.read_csv('okcupid_profiles.csv')\n",
        "\n",
        "# Looking at the first 5 rows\n",
        "profiles.head()"
      ]
    },
    {
      "cell_type": "markdown",
      "metadata": {
        "id": "g-rGzx0Fu8ZQ"
      },
      "source": [
        "The dataset consists of 31 columns:\n",
        "1. age\n",
        "2. status - relationship status\n",
        "3. sex\n",
        "4. orientation\n",
        "5. body_type - average, fit, other\n",
        "6. diet\n",
        "7. drinks - drinking habits\n",
        "8. drugs - drugs using habits\n",
        "9. education\n",
        "10. ethnicity\n",
        "11. height\n",
        "12. income\n",
        "13. job\n",
        "14. last_online\n",
        "15. location\n",
        "16. offspring - whether or not the person has kids or plans of having them\n",
        "17. pets - whether having/liking pets\n",
        "18. religion\n",
        "19. sign - astrological sign\n",
        "20. smokes - whether the person smokes or not\n",
        "21. languages\n",
        "22-31. essay (open questions)"
      ]
    },
    {
      "cell_type": "markdown",
      "metadata": {
        "id": "TrX0n2q4v3_n"
      },
      "source": [
        "# Cleaning & Analysis"
      ]
    },
    {
      "cell_type": "code",
      "execution_count": null,
      "metadata": {
        "colab": {
          "base_uri": "https://localhost:8080/"
        },
        "id": "MLMXPrUHuBmh",
        "outputId": "738579be-91fd-43fb-df31-8764fde5bd3b"
      },
      "outputs": [
        {
          "name": "stdout",
          "output_type": "stream",
          "text": [
            "<class 'pandas.core.frame.DataFrame'>\n",
            "RangeIndex: 59946 entries, 0 to 59945\n",
            "Data columns (total 31 columns):\n",
            " #   Column       Non-Null Count  Dtype  \n",
            "---  ------       --------------  -----  \n",
            " 0   age          59946 non-null  int64  \n",
            " 1   status       59946 non-null  object \n",
            " 2   sex          59946 non-null  object \n",
            " 3   orientation  59946 non-null  object \n",
            " 4   body_type    54650 non-null  object \n",
            " 5   diet         35551 non-null  object \n",
            " 6   drinks       56961 non-null  object \n",
            " 7   drugs        45866 non-null  object \n",
            " 8   education    53318 non-null  object \n",
            " 9   ethnicity    54266 non-null  object \n",
            " 10  height       59943 non-null  float64\n",
            " 11  income       59946 non-null  int64  \n",
            " 12  job          51748 non-null  object \n",
            " 13  last_online  59946 non-null  object \n",
            " 14  location     59946 non-null  object \n",
            " 15  offspring    24385 non-null  object \n",
            " 16  pets         40025 non-null  object \n",
            " 17  religion     39720 non-null  object \n",
            " 18  sign         48890 non-null  object \n",
            " 19  smokes       54434 non-null  object \n",
            " 20  speaks       59896 non-null  object \n",
            " 21  essay0       54458 non-null  object \n",
            " 22  essay1       52374 non-null  object \n",
            " 23  essay2       50308 non-null  object \n",
            " 24  essay3       48470 non-null  object \n",
            " 25  essay4       49409 non-null  object \n",
            " 26  essay5       49096 non-null  object \n",
            " 27  essay6       46175 non-null  object \n",
            " 28  essay7       47495 non-null  object \n",
            " 29  essay8       40721 non-null  object \n",
            " 30  essay9       47343 non-null  object \n",
            "dtypes: float64(1), int64(2), object(28)\n",
            "memory usage: 14.2+ MB\n"
          ]
        }
      ],
      "source": [
        "# Understanding the dataset using .info()\n",
        "profiles.info()"
      ]
    },
    {
      "cell_type": "markdown",
      "metadata": {
        "id": "oZPRdhiJwJxi"
      },
      "source": [
        "**Dropping irrelevant columns**\n",
        "\n",
        "I dropped \"last_online\" because of its irrelevance to personality analysis.\n",
        "\n",
        "Also, I dropped the openp-fill questions for a few reasons:\n",
        "1. Analyzing both free-text questions and the multiple-choice questions require both ML and NLP algorithms.\n",
        "2. Such questions ofen have many missing values.\n",
        "3. Prone to cultural differences in language use and openess for sharing about oneself."
      ]
    },
    {
      "cell_type": "code",
      "execution_count": null,
      "metadata": {
        "id": "ep4Gvqf6y3G8"
      },
      "outputs": [],
      "source": [
        "# Dropping the 10 essay columns\n",
        "profiles = profiles.drop(columns=[f'essay{i}' for i in range(10)])\n",
        "\n",
        "# Dropping 'last_online'\n",
        "profiles = profiles.drop(columns=['last_online'])"
      ]
    },
    {
      "cell_type": "markdown",
      "metadata": {
        "id": "cB8GkAcX0ueI"
      },
      "source": [
        "**Understanding the distributions**\n",
        "\n",
        "To understand the distributions and later handle missing values, I wanted to further understand some of the other columns.\n"
      ]
    },
    {
      "cell_type": "code",
      "execution_count": null,
      "metadata": {
        "colab": {
          "base_uri": "https://localhost:8080/"
        },
        "id": "ecB66cACwAB4",
        "outputId": "545cc50f-6bf2-4080-c394-c9a8bf4fadc3"
      },
      "outputs": [
        {
          "name": "stdout",
          "output_type": "stream",
          "text": [
            "Summary statistics for numerical columns:\n",
            "                age        height          income\n",
            "count  59946.000000  59943.000000    59946.000000\n",
            "mean      32.340290     68.295281    20033.222534\n",
            "std        9.452779      3.994803    97346.192104\n",
            "min       18.000000      1.000000       -1.000000\n",
            "25%       26.000000     66.000000       -1.000000\n",
            "50%       30.000000     68.000000       -1.000000\n",
            "75%       37.000000     71.000000       -1.000000\n",
            "max      110.000000     95.000000  1000000.000000\n",
            "\n",
            "Distribution of values in column 'status':\n",
            "single            55697\n",
            "seeing someone     2064\n",
            "available          1865\n",
            "married             310\n",
            "unknown              10\n",
            "Name: status, dtype: int64\n",
            "\n",
            "Distribution of values in column 'sex':\n",
            "m    35829\n",
            "f    24117\n",
            "Name: sex, dtype: int64\n",
            "\n",
            "Distribution of values in column 'orientation':\n",
            "straight    51606\n",
            "gay          5573\n",
            "bisexual     2767\n",
            "Name: orientation, dtype: int64\n",
            "\n",
            "Distribution of values in column 'body_type':\n",
            "average           14652\n",
            "fit               12711\n",
            "athletic          11819\n",
            "thin               4711\n",
            "curvy              3924\n",
            "a little extra     2629\n",
            "skinny             1777\n",
            "full figured       1009\n",
            "overweight          444\n",
            "jacked              421\n",
            "used up             355\n",
            "rather not say      198\n",
            "Name: body_type, dtype: int64\n",
            "\n",
            "Distribution of values in column 'diet':\n",
            "mostly anything        16585\n",
            "anything                6183\n",
            "strictly anything       5113\n",
            "mostly vegetarian       3444\n",
            "mostly other            1007\n",
            "strictly vegetarian      875\n",
            "vegetarian               667\n",
            "strictly other           452\n",
            "mostly vegan             338\n",
            "other                    331\n",
            "strictly vegan           228\n",
            "vegan                    136\n",
            "mostly kosher             86\n",
            "mostly halal              48\n",
            "strictly halal            18\n",
            "strictly kosher           18\n",
            "halal                     11\n",
            "kosher                    11\n",
            "Name: diet, dtype: int64\n",
            "\n",
            "Distribution of values in column 'drinks':\n",
            "socially       41780\n",
            "rarely          5957\n",
            "often           5164\n",
            "not at all      3267\n",
            "very often       471\n",
            "desperately      322\n",
            "Name: drinks, dtype: int64\n",
            "\n",
            "Distribution of values in column 'drugs':\n",
            "never        37724\n",
            "sometimes     7732\n",
            "often          410\n",
            "Name: drugs, dtype: int64\n",
            "\n",
            "Distribution of values in column 'education':\n",
            "graduated from college/university    23959\n",
            "graduated from masters program        8961\n",
            "working on college/university         5712\n",
            "working on masters program            1683\n",
            "graduated from two-year college       1531\n",
            "graduated from high school            1428\n",
            "graduated from ph.d program           1272\n",
            "graduated from law school             1122\n",
            "working on two-year college           1074\n",
            "dropped out of college/university      995\n",
            "working on ph.d program                983\n",
            "college/university                     801\n",
            "graduated from space camp              657\n",
            "dropped out of space camp              523\n",
            "graduated from med school              446\n",
            "working on space camp                  445\n",
            "working on law school                  269\n",
            "two-year college                       222\n",
            "working on med school                  212\n",
            "dropped out of two-year college        191\n",
            "dropped out of masters program         140\n",
            "masters program                        136\n",
            "dropped out of ph.d program            127\n",
            "dropped out of high school             102\n",
            "high school                             96\n",
            "working on high school                  87\n",
            "space camp                              58\n",
            "ph.d program                            26\n",
            "law school                              19\n",
            "dropped out of law school               18\n",
            "dropped out of med school               12\n",
            "med school                              11\n",
            "Name: education, dtype: int64\n",
            "\n",
            "Distribution of values in column 'ethnicity':\n",
            "white                                                                 32831\n",
            "asian                                                                  6134\n",
            "hispanic / latin                                                       2823\n",
            "black                                                                  2008\n",
            "other                                                                  1706\n",
            "                                                                      ...  \n",
            "middle eastern, indian, white                                             1\n",
            "asian, middle eastern, black, white, other                                1\n",
            "asian, middle eastern, indian, hispanic / latin, white, other             1\n",
            "black, native american, indian, pacific islander, hispanic / latin        1\n",
            "asian, black, indian                                                      1\n",
            "Name: ethnicity, Length: 217, dtype: int64\n",
            "\n",
            "Distribution of values in column 'job':\n",
            "other                                7589\n",
            "student                              4882\n",
            "science / tech / engineering         4848\n",
            "computer / hardware / software       4709\n",
            "artistic / musical / writer          4439\n",
            "sales / marketing / biz dev          4391\n",
            "medicine / health                    3680\n",
            "education / academia                 3513\n",
            "executive / management               2373\n",
            "banking / financial / real estate    2266\n",
            "entertainment / media                2250\n",
            "law / legal services                 1381\n",
            "hospitality / travel                 1364\n",
            "construction / craftsmanship         1021\n",
            "clerical / administrative             805\n",
            "political / government                708\n",
            "rather not say                        436\n",
            "transportation                        366\n",
            "unemployed                            273\n",
            "retired                               250\n",
            "military                              204\n",
            "Name: job, dtype: int64\n",
            "\n",
            "Distribution of values in column 'location':\n",
            "san francisco, california         31064\n",
            "oakland, california                7214\n",
            "berkeley, california               4212\n",
            "san mateo, california              1331\n",
            "palo alto, california              1064\n",
            "                                  ...  \n",
            "south wellfleet, massachusetts        1\n",
            "orange, california                    1\n",
            "astoria, new york                     1\n",
            "london, united kingdom                1\n",
            "rochester, michigan                   1\n",
            "Name: location, Length: 199, dtype: int64\n",
            "\n",
            "Distribution of values in column 'offspring':\n",
            "doesn't have kids                          7560\n",
            "doesn't have kids, but might want them     3875\n",
            "doesn't have kids, but wants them          3565\n",
            "doesn't want kids                          2927\n",
            "has kids                                   1883\n",
            "has a kid                                  1881\n",
            "doesn't have kids, and doesn't want any    1132\n",
            "has kids, but doesn't want more             442\n",
            "has a kid, but doesn't want more            275\n",
            "has a kid, and might want more              231\n",
            "wants kids                                  225\n",
            "might want kids                             182\n",
            "has kids, and might want more               115\n",
            "has a kid, and wants more                    71\n",
            "has kids, and wants more                     21\n",
            "Name: offspring, dtype: int64\n",
            "\n",
            "Distribution of values in column 'pets':\n",
            "likes dogs and likes cats          14814\n",
            "likes dogs                          7224\n",
            "likes dogs and has cats             4313\n",
            "has dogs                            4134\n",
            "has dogs and likes cats             2333\n",
            "likes dogs and dislikes cats        2029\n",
            "has dogs and has cats               1474\n",
            "has cats                            1406\n",
            "likes cats                          1063\n",
            "has dogs and dislikes cats           552\n",
            "dislikes dogs and likes cats         240\n",
            "dislikes dogs and dislikes cats      196\n",
            "dislikes cats                        122\n",
            "dislikes dogs and has cats            81\n",
            "dislikes dogs                         44\n",
            "Name: pets, dtype: int64\n",
            "\n",
            "Distribution of values in column 'religion':\n",
            "agnosticism                                   2724\n",
            "other                                         2691\n",
            "agnosticism but not too serious about it      2636\n",
            "agnosticism and laughing about it             2496\n",
            "catholicism but not too serious about it      2318\n",
            "atheism                                       2175\n",
            "other and laughing about it                   2119\n",
            "atheism and laughing about it                 2074\n",
            "christianity                                  1957\n",
            "christianity but not too serious about it     1952\n",
            "other but not too serious about it            1554\n",
            "judaism but not too serious about it          1517\n",
            "atheism but not too serious about it          1318\n",
            "catholicism                                   1064\n",
            "christianity and somewhat serious about it     927\n",
            "atheism and somewhat serious about it          848\n",
            "other and somewhat serious about it            846\n",
            "catholicism and laughing about it              726\n",
            "judaism and laughing about it                  681\n",
            "buddhism but not too serious about it          650\n",
            "agnosticism and somewhat serious about it      642\n",
            "judaism                                        612\n",
            "christianity and very serious about it         578\n",
            "atheism and very serious about it              570\n",
            "catholicism and somewhat serious about it      548\n",
            "other and very serious about it                533\n",
            "buddhism and laughing about it                 466\n",
            "buddhism                                       403\n",
            "christianity and laughing about it             373\n",
            "buddhism and somewhat serious about it         359\n",
            "agnosticism and very serious about it          314\n",
            "judaism and somewhat serious about it          266\n",
            "hinduism but not too serious about it          227\n",
            "hinduism                                       107\n",
            "catholicism and very serious about it          102\n",
            "buddhism and very serious about it              70\n",
            "hinduism and somewhat serious about it          58\n",
            "islam                                           48\n",
            "hinduism and laughing about it                  44\n",
            "islam but not too serious about it              40\n",
            "judaism and very serious about it               22\n",
            "islam and somewhat serious about it             22\n",
            "islam and laughing about it                     16\n",
            "hinduism and very serious about it              14\n",
            "islam and very serious about it                 13\n",
            "Name: religion, dtype: int64\n",
            "\n",
            "Distribution of values in column 'sign':\n",
            "gemini and it&rsquo;s fun to think about         1782\n",
            "scorpio and it&rsquo;s fun to think about        1772\n",
            "leo and it&rsquo;s fun to think about            1692\n",
            "libra and it&rsquo;s fun to think about          1649\n",
            "taurus and it&rsquo;s fun to think about         1640\n",
            "cancer and it&rsquo;s fun to think about         1597\n",
            "pisces and it&rsquo;s fun to think about         1592\n",
            "sagittarius and it&rsquo;s fun to think about    1583\n",
            "virgo and it&rsquo;s fun to think about          1574\n",
            "aries and it&rsquo;s fun to think about          1573\n",
            "aquarius and it&rsquo;s fun to think about       1503\n",
            "virgo but it doesn&rsquo;t matter                1497\n",
            "leo but it doesn&rsquo;t matter                  1457\n",
            "cancer but it doesn&rsquo;t matter               1454\n",
            "gemini but it doesn&rsquo;t matter               1453\n",
            "taurus but it doesn&rsquo;t matter               1450\n",
            "libra but it doesn&rsquo;t matter                1408\n",
            "aquarius but it doesn&rsquo;t matter             1408\n",
            "capricorn and it&rsquo;s fun to think about      1376\n",
            "sagittarius but it doesn&rsquo;t matter          1375\n",
            "aries but it doesn&rsquo;t matter                1373\n",
            "capricorn but it doesn&rsquo;t matter            1319\n",
            "pisces but it doesn&rsquo;t matter               1300\n",
            "scorpio but it doesn&rsquo;t matter              1264\n",
            "leo                                              1159\n",
            "libra                                            1098\n",
            "cancer                                           1092\n",
            "virgo                                            1029\n",
            "scorpio                                          1020\n",
            "gemini                                           1013\n",
            "taurus                                           1001\n",
            "aries                                             996\n",
            "pisces                                            992\n",
            "aquarius                                          954\n",
            "sagittarius                                       937\n",
            "capricorn                                         833\n",
            "scorpio and it matters a lot                       78\n",
            "leo and it matters a lot                           66\n",
            "cancer and it matters a lot                        63\n",
            "aquarius and it matters a lot                      63\n",
            "pisces and it matters a lot                        62\n",
            "gemini and it matters a lot                        62\n",
            "libra and it matters a lot                         52\n",
            "taurus and it matters a lot                        49\n",
            "aries and it matters a lot                         47\n",
            "sagittarius and it matters a lot                   47\n",
            "capricorn and it matters a lot                     45\n",
            "virgo and it matters a lot                         41\n",
            "Name: sign, dtype: int64\n",
            "\n",
            "Distribution of values in column 'smokes':\n",
            "no                43896\n",
            "sometimes          3787\n",
            "when drinking      3040\n",
            "yes                2231\n",
            "trying to quit     1480\n",
            "Name: smokes, dtype: int64\n",
            "\n",
            "Distribution of values in column 'speaks':\n",
            "english                                                                21828\n",
            "english (fluently)                                                      6628\n",
            "english (fluently), spanish (poorly)                                    2059\n",
            "english (fluently), spanish (okay)                                      1917\n",
            "english (fluently), spanish (fluently)                                  1288\n",
            "                                                                       ...  \n",
            "english (fluently), urdu (poorly), japanese (poorly), french (okay)        1\n",
            "english, spanish, hindi, c++                                               1\n",
            "english (fluently), japanese (okay), thai (okay), chinese (poorly)         1\n",
            "english (fluently), french (okay), italian (okay), hebrew (okay)           1\n",
            "english (fluently), french, farsi                                          1\n",
            "Name: speaks, Length: 7647, dtype: int64\n",
            "\n"
          ]
        }
      ],
      "source": [
        "# Understanding the distribution of numerical columns\n",
        "numerical_summary = profiles.describe()\n",
        "print(\"Summary statistics for numerical columns:\")\n",
        "print(numerical_summary)\n",
        "print()\n",
        "\n",
        "# Understanding the distribution of categorical columns\n",
        "categorical_columns = profiles.select_dtypes(include=['object']).columns\n",
        "for column in categorical_columns:\n",
        "    print(f\"Distribution of values in column '{column}':\")\n",
        "    print(profiles[column].value_counts())\n",
        "    print()"
      ]
    },
    {
      "cell_type": "markdown",
      "metadata": {
        "id": "KKevCTQ03nzj"
      },
      "source": [
        "**Manipulating 'diet' column - combining the 'mostly anything', 'anything' and 'strictly anything' into an 'all-eater' option**\n",
        "\n",
        "Beside merging the three different responses into the same one, I printed the percentage of this feature out of the non-null values in the column.\n",
        "Later I used this figure to handle the missing values in the column."
      ]
    },
    {
      "cell_type": "code",
      "execution_count": null,
      "metadata": {
        "colab": {
          "base_uri": "https://localhost:8080/"
        },
        "id": "nnSIy8ts2Y6N",
        "outputId": "70d08d63-b396-4b9d-ff70-e56947aefadd"
      },
      "outputs": [
        {
          "data": {
            "text/plain": [
              "78.42536074934601"
            ]
          },
          "execution_count": 9,
          "metadata": {},
          "output_type": "execute_result"
        }
      ],
      "source": [
        "# Replacing 'mostly anything', 'anything' and 'strictly anything' with 'all-eater'\n",
        "profiles['diet'].replace(['mostly anything', 'anything', 'strictly anything'], 'all-eater', inplace=True)\n",
        "\n",
        "# Calculating the percentage of 'all-eater' responses out of all the non-null values\n",
        "all_eater_count = profiles['diet'][profiles['diet'] == 'all-eater'].count()\n",
        "non_null_diet_count = profiles['diet'].notnull().sum()\n",
        "all_eater_percentage = (all_eater_count / non_null_diet_count) * 100\n",
        "\n",
        "all_eater_percentage"
      ]
    },
    {
      "cell_type": "code",
      "execution_count": null,
      "metadata": {
        "colab": {
          "base_uri": "https://localhost:8080/",
          "height": 515
        },
        "id": "tGKIE5JQJMAQ",
        "outputId": "3f82fad9-74b3-48fe-cabc-8e9b6cd06993"
      },
      "outputs": [
        {
          "data": {
            "image/png": "[encoded data removed]",
            "text/plain": [
              "<Figure size 1000x600 with 1 Axes>"
            ]
          },
          "metadata": {},
          "output_type": "display_data"
        }
      ],
      "source": [
        "# Visualizing the new distribution in the 'diet' column\n",
        "# Saving the value counts in the column in a new variable\n",
        "updated_distribution = profiles['diet'].value_counts()\n",
        "\n",
        "# Defining colorblind-friendly colors\n",
        "colors = ['#1f77b4', '#ff7f0e', '#2ca02c', '#d62728', '#9467bd', '#8c564b', '#e377c2', '#7f7f7f', '#bcbd22', '#17becf']\n",
        "\n",
        "# Plotting\n",
        "plt.figure(figsize=(10, 6))\n",
        "updated_distribution.plot(kind='bar', color=colors)\n",
        "plt.title('Distribution of Diet Preferences')\n",
        "plt.xlabel('Diet Type')\n",
        "plt.ylabel('Count')\n",
        "plt.xticks(rotation=45, ha='right')\n",
        "plt.tight_layout()\n",
        "plt.show()"
      ]
    },
    {
      "cell_type": "markdown",
      "metadata": {
        "id": "hlXZxSgZ0Zit"
      },
      "source": [
        "**Missing values**\n",
        "\n",
        "Handling the missing values by column:\n",
        "1. 'body_type' (8.8% missing values) - I imputed with the 'average' body type.\n",
        "2. 'diet' (40.694%) - about 78% of the non-missing values are 'all-eater' people. I imputed the missing values with 'all-eater'.\n",
        "3. 'drinks' (4.97%) - the most predominant response is 'socially' drinking, I mputed the missing values with this option.\n",
        "4. 'drugs' (23.48%) - the most predominant response is 'never', I imputed missing values with this option.\n",
        "5. 'education' (11.05%) - most users refer on recieving higher education. However, I took it with a grain of salt the users with higher education wouldn't report it. So I I boxplotted the figures and saw that users who did not report on education level are about the same average age of users who reported on having higher education. However, I wanted to be certain, so I checked if the distribution of ages for the 3 education groups (with, without and nulls) and saw that the data is not evenly distributed. Therefore, I decided to run a Mann-Whitney U test and saw that the there are significant differences in age distributions between individuals with and without higher education, and between individuals without higher education and those who did not report their education. Even though people who did not report their education have a distribution similar more to the group of users who have recieved higher education than the group of people who didn't, I can't associate the nulls group to each. I dropped the null rows.\n",
        "6. 'ethnicity' (9.47%) - I dropped the null rows.\n",
        "7. 'height' (0.005%) - I dropped the null rows.\n",
        "8. 'income' - more than 75% Of the values are assigned as '-1', signifying a lack of reporting from most users. So I dropped this column.\n",
        "9. 'job' (13.67%) - I guess that most people did not answer to this question because, like the users that answered 'rather not say', they simply did not want to share their livelihood out in the open for everyone, or rather they are unemployed or students. I decided to assign the nulls as 'rather not to say'.\n",
        "10. 'offspring' (59.32%) - the most predominant responses revolve on not having kids. However, I'm sure some users do have kids but did not report it in the column. Therefore, I dropped this column.\n",
        "11. 'pets' (33.23%) - the column's purpouse is rather to answer two questions - do you have a pet, and if not, do you like them or not. Along with having more than 30% of missing values, the indirect question complicates analysis. I dropped this column.\n",
        "12. religion (33.74%) - a great parameter for predicting drinking, smoking and drugs habits. I decided to drop the missing rows.\n",
        "13. sign (18.44%) - I imputed the null rows with \"unspecified\". Also, because the column combines the sign itself and perception of importance, I only kept the sign itself.\n",
        "14. smokes (9.19%) - the predominant response is not smoking, so I imputed missing rows with 'no'.\n",
        "15. speaks (0.083%) - I dropped missing rows with \"English (fluently)\"."
      ]
    },
    {
      "cell_type": "code",
      "execution_count": null,
      "metadata": {
        "colab": {
          "base_uri": "https://localhost:8080/"
        },
        "id": "2MdMrRJo0biQ",
        "outputId": "f97d6a00-0232-4e5b-a3cb-1a7067581ffc"
      },
      "outputs": [
        {
          "data": {
            "text/plain": [
              "age             0.000000\n",
              "status          0.000000\n",
              "sex             0.000000\n",
              "orientation     0.000000\n",
              "body_type       8.834618\n",
              "diet           40.694959\n",
              "drinks          4.979482\n",
              "drugs          23.487806\n",
              "education      11.056618\n",
              "ethnicity       9.475194\n",
              "height          0.005005\n",
              "income          0.000000\n",
              "job            13.675641\n",
              "location        0.000000\n",
              "offspring      59.321723\n",
              "pets           33.231575\n",
              "religion       33.740366\n",
              "sign           18.443266\n",
              "smokes          9.194942\n",
              "speaks          0.083408\n",
              "dtype: float64"
            ]
          },
          "execution_count": 11,
          "metadata": {},
          "output_type": "execute_result"
        }
      ],
      "source": [
        "# Printing missing values\n",
        "(profiles.isnull().sum() / len(profiles)) * 100"
      ]
    },
    {
      "cell_type": "code",
      "execution_count": null,
      "metadata": {
        "id": "SCVpkdvKk44K"
      },
      "outputs": [],
      "source": [
        "# Imputing missing values in 'body_type' with 'average'\n",
        "profiles['body_type'] = profiles['body_type'].fillna('average')"
      ]
    },
    {
      "cell_type": "code",
      "execution_count": null,
      "metadata": {
        "id": "dAKexL9O0wc3"
      },
      "outputs": [],
      "source": [
        "# Imputing missing values in 'diet' column with 'all-eater'\n",
        "profiles['diet'] = profiles['diet'].fillna('all-eater')"
      ]
    },
    {
      "cell_type": "code",
      "execution_count": null,
      "metadata": {
        "id": "XVmScxZF4iw4"
      },
      "outputs": [],
      "source": [
        "# Imputing missing values in 'drinks' with 'socially'\n",
        "profiles['drinks'] = profiles['drinks'].fillna('socially')"
      ]
    },
    {
      "cell_type": "code",
      "execution_count": null,
      "metadata": {
        "id": "uNqN0HJg43vt"
      },
      "outputs": [],
      "source": [
        "# Imputing missing values in 'drugs' with 'never'\n",
        "profiles['drugs'] = profiles['drugs'].fillna('never')"
      ]
    },
    {
      "cell_type": "code",
      "execution_count": null,
      "metadata": {
        "colab": {
          "base_uri": "https://localhost:8080/",
          "height": 515
        },
        "id": "_S2cpatI6JYl",
        "outputId": "ca1152b4-cd73-4ea7-90fd-87dbd011921b"
      },
      "outputs": [
        {
          "data": {
            "image/png": "[encoded data removed]",
            "text/plain": [
              "<Figure size 1000x600 with 1 Axes>"
            ]
          },
          "metadata": {},
          "output_type": "display_data"
        }
      ],
      "source": [
        "# Understanding the distributions of ages of people with, without higher education and with no responding on education using box plots\n",
        "# Defining the groups for 'education' based on the user input\n",
        "without_higher_education = ['working on high school', 'high school', 'dropped out of high school']\n",
        "higher_education = ['graduated from college/university', 'graduated from masters program',\n",
        "    'working on college/university', 'working on masters program',\n",
        "    'graduated from two-year college', 'graduated from ph.d program',\n",
        "    'graduated from law school', 'working on two-year college',\n",
        "    'dropped out of college/university', 'working on ph.d program',\n",
        "    'college/university', 'graduated from space camp', 'dropped out of space camp',\n",
        "    'graduated from med school', 'working on space camp', 'working on law school',\n",
        "    'two-year college', 'working on med school', 'dropped out of two-year college',\n",
        "    'dropped out of masters program', 'masters program', 'dropped out of ph.d program',\n",
        "    'dropped out of high school', 'high school', 'working on high school',\n",
        "    'space camp', 'ph.d program', 'law school', 'dropped out of law school',\n",
        "    'dropped out of med school', 'med school']\n",
        "\n",
        "# Dynamically categorizing education levels for a new DataFrame\n",
        "def categorize_education(row):\n",
        "    if pd.isna(row):\n",
        "        return 'Null'\n",
        "    elif any(education in row for education in without_higher_education):\n",
        "        return 'Without Higher Education'\n",
        "    elif any(education in row for education in higher_education):\n",
        "        return 'With Higher Education'\n",
        "    else:\n",
        "        return 'Other'\n",
        "\n",
        "# Creating a new DataFrame for plotting\n",
        "plotting_data = profiles.copy()\n",
        "plotting_data['education_group'] = plotting_data['education'].apply(categorize_education)\n",
        "\n",
        "# Setting the style of seaborn\n",
        "sns.set_style(\"whitegrid\")\n",
        "\n",
        "# Creating the box plot for age by education group in the new DataFrame\n",
        "plt.figure(figsize=(10, 6))\n",
        "sns.boxplot(x='education_group', y='age', hue='education_group', data=plotting_data, palette='colorblind')\n",
        "plt.title('Age Distribution by Education Group')\n",
        "plt.xlabel('Education Group')\n",
        "plt.ylabel('Age')\n",
        "plt.xticks(rotation=0)\n",
        "\n",
        "# Show plot\n",
        "plt.tight_layout()\n",
        "plt.show()"
      ]
    },
    {
      "cell_type": "code",
      "execution_count": null,
      "metadata": {
        "colab": {
          "base_uri": "https://localhost:8080/"
        },
        "id": "KOAI1PVX9LBN",
        "outputId": "296635fb-c965-4866-9137-7c4228357d4c"
      },
      "outputs": [
        {
          "data": {
            "text/plain": [
              "{'With Higher Education': (0.0, 'Not normally distributed'),\n",
              " 'Null': (2.802596928649634e-45, 'Not normally distributed'),\n",
              " 'Without Higher Education': (8.7642531341454e-36, 'Not normally distributed')}"
            ]
          },
          "execution_count": 17,
          "metadata": {},
          "output_type": "execute_result"
        }
      ],
      "source": [
        "# Checking if the ages in the three education groups are normally distributed using Shapiro-Wilk test\n",
        "# Defining a function to test normality and sample 5000 samples (the maximum the test can handle)\n",
        "def test_normality(data):\n",
        "    if len(data) > 5000:\n",
        "        data = data.sample(5000, random_state=1)\n",
        "    stat, p_value = stats.shapiro(data)\n",
        "    return p_value, 'Normally distributed' if p_value > 0.05 else 'Not normally distributed'\n",
        "\n",
        "# Performing the Shapiro-Wilk test for each education group\n",
        "shapiro_results = {}\n",
        "for group in plotting_data['education_group'].unique():\n",
        "    group_data = plotting_data[plotting_data['education_group'] == group]['age']\n",
        "    shapiro_results[group] = test_normality(group_data)\n",
        "\n",
        "# Printing out the results\n",
        "shapiro_results"
      ]
    },
    {
      "cell_type": "code",
      "execution_count": null,
      "metadata": {
        "colab": {
          "base_uri": "https://localhost:8080/"
        },
        "id": "L-XiHt4lA_fL",
        "outputId": "4d1ec85a-29d7-45c1-92a8-eb477e9cbc4d"
      },
      "outputs": [
        {
          "data": {
            "text/plain": [
              "{'With Higher Education vs. Without Higher Education': MannwhitneyuResult(statistic=55027392.5, pvalue=5.2843447953641685e-67),\n",
              " 'With Higher Education vs. Null': MannwhitneyuResult(statistic=170427519.0, pvalue=0.6458690613555451),\n",
              " 'Without Higher Education vs. Null': MannwhitneyuResult(statistic=4365264.5, pvalue=2.1711765952749466e-49)}"
            ]
          },
          "execution_count": 18,
          "metadata": {},
          "output_type": "execute_result"
        }
      ],
      "source": [
        "# Performing Mann-Whitney U test for each pair of education groups\n",
        "# Extract the age data for each group\n",
        "ages_with_higher_education = plotting_data[plotting_data['education_group'] == 'With Higher Education']['age']\n",
        "ages_without_higher_education = plotting_data[plotting_data['education_group'] == 'Without Higher Education']['age']\n",
        "ages_null_education = plotting_data[plotting_data['education_group'] == 'Null']['age']\n",
        "\n",
        "# Perform the Mann-Whitney U tests\n",
        "mwu_results = {\n",
        "    'With Higher Education vs. Without Higher Education': stats.mannwhitneyu(ages_with_higher_education, ages_without_higher_education, alternative='two-sided'),\n",
        "    'With Higher Education vs. Null': stats.mannwhitneyu(ages_with_higher_education, ages_null_education, alternative='two-sided'),\n",
        "    'Without Higher Education vs. Null': stats.mannwhitneyu(ages_without_higher_education, ages_null_education, alternative='two-sided')\n",
        "}\n",
        "\n",
        "mwu_results"
      ]
    },
    {
      "cell_type": "code",
      "execution_count": null,
      "metadata": {
        "id": "asO1pHo2DbzD"
      },
      "outputs": [],
      "source": [
        "# Dropping null rows in the 'education' column\n",
        "profiles.dropna(subset=['education'], inplace=True)"
      ]
    },
    {
      "cell_type": "code",
      "execution_count": null,
      "metadata": {
        "id": "IOxQigEWEn9T"
      },
      "outputs": [],
      "source": [
        "# Dropping null rows in the 'ethnicity' column\n",
        "profiles.dropna(subset=['ethnicity'], inplace=True)"
      ]
    },
    {
      "cell_type": "code",
      "execution_count": null,
      "metadata": {
        "id": "VGIhRlI2E2RS"
      },
      "outputs": [],
      "source": [
        "# Dropping null rows in the 'height' column\n",
        "profiles.dropna(subset=['height'], inplace=True)"
      ]
    },
    {
      "cell_type": "code",
      "execution_count": null,
      "metadata": {
        "colab": {
          "base_uri": "https://localhost:8080/",
          "height": 515
        },
        "id": "xKNSIVD1KAol",
        "outputId": "e47b0d3a-449c-49d2-d066-ccc2675d6e9b"
      },
      "outputs": [
        {
          "data": {
            "image/png": "[encoded data removed]",
            "text/plain": [
              "<Figure size 1000x600 with 1 Axes>"
            ]
          },
          "metadata": {},
          "output_type": "display_data"
        }
      ],
      "source": [
        "# Visualizing the 'income' column to see the distribution visually\n",
        "# Defining colorblind-friendly colors\n",
        "colors = ['#1f77b4', '#ff7f0e', '#2ca02c', '#d62728', '#9467bd', '#8c564b', '#e377c2', '#7f7f7f', '#bcbd22', '#17becf']\n",
        "\n",
        "# Visualize the distribution of values in the 'income' column\n",
        "plt.figure(figsize=(10, 6))\n",
        "profiles['income'].value_counts().plot(kind='bar', color=colors)\n",
        "plt.title('Distribution of Income')\n",
        "plt.xlabel('Income')\n",
        "plt.ylabel('Count')\n",
        "plt.xticks(rotation=45, ha='right')\n",
        "plt.tight_layout()\n",
        "plt.show()"
      ]
    },
    {
      "cell_type": "code",
      "execution_count": null,
      "metadata": {
        "id": "vNc2DDsRFXP5"
      },
      "outputs": [],
      "source": [
        "# Dropping the 'income' column\n",
        "profiles.drop(columns=['income'], inplace=True)"
      ]
    },
    {
      "cell_type": "code",
      "execution_count": null,
      "metadata": {
        "id": "5qMi4BX8GE1K"
      },
      "outputs": [],
      "source": [
        "# Combining nulls in 'job' column with the answe 'rather not say'\n",
        "profiles['job'].fillna('rather not to say', inplace=True)"
      ]
    },
    {
      "cell_type": "code",
      "execution_count": null,
      "metadata": {
        "id": "L4PsNYPrMAaC"
      },
      "outputs": [],
      "source": [
        "# Dropping 'offspring' column\n",
        "profiles.drop('offspring', axis=1, inplace=True)"
      ]
    },
    {
      "cell_type": "code",
      "execution_count": null,
      "metadata": {
        "colab": {
          "base_uri": "https://localhost:8080/",
          "height": 587
        },
        "id": "v8m8Hwy8O0ef",
        "outputId": "4d25a65b-eb77-4f8b-be4b-78dc1e529f95"
      },
      "outputs": [
        {
          "name": "stderr",
          "output_type": "stream",
          "text": [
            "<ipython-input-26-d2e44dd73d26>:10: UserWarning: \n",
            "The palette list has fewer values (10) than needed (15) and will cycle, which may produce an uninterpretable plot.\n",
            "  sns.barplot(x=pets_counts.index, y=pets_counts.values, hue=pets_counts.index, palette=colors, legend=False)\n"
          ]
        },
        {
          "data": {
            "image/png": "[encoded data removed]",
            "text/plain": [
              "<Figure size 1000x600 with 1 Axes>"
            ]
          },
          "metadata": {},
          "output_type": "display_data"
        }
      ],
      "source": [
        "# Visualizing the 'pets' column to see the distribution visually\n",
        "# Counting the unique values in the 'pets' column\n",
        "pets_counts = profiles['pets'].value_counts()\n",
        "\n",
        "# Defining colorblind-friendly colors\n",
        "colors = ['#1f77b4', '#ff7f0e', '#2ca02c', '#d62728', '#9467bd', '#8c564b', '#e377c2', '#7f7f7f', '#bcbd22', '#17becf']\n",
        "\n",
        "# Creating a bar plot\n",
        "plt.figure(figsize=(10, 6))\n",
        "sns.barplot(x=pets_counts.index, y=pets_counts.values, hue=pets_counts.index, palette=colors, legend=False)\n",
        "plt.title('Distribution of Pets Preferences')\n",
        "plt.xlabel('Pets Preferences')\n",
        "plt.ylabel('Count')\n",
        "plt.xticks(rotation=90)\n",
        "plt.tight_layout()\n",
        "plt.show()"
      ]
    },
    {
      "cell_type": "code",
      "execution_count": null,
      "metadata": {
        "id": "Jbe7BQrvNZBT"
      },
      "outputs": [],
      "source": [
        "# Dropping 'pets' column\n",
        "profiles.drop('pets', axis=1, inplace=True)"
      ]
    },
    {
      "cell_type": "code",
      "execution_count": null,
      "metadata": {
        "id": "ZZW6HhTVRBoA"
      },
      "outputs": [],
      "source": [
        "# Dropping null rows in 'religion'\n",
        "profiles.dropna(subset=['religion'], inplace=True)"
      ]
    },
    {
      "cell_type": "code",
      "execution_count": null,
      "metadata": {
        "id": "0joUuubMSYYQ"
      },
      "outputs": [],
      "source": [
        "# Imputing missing rows in 'speaks' column with 'English (fluently)'\n",
        "profiles['speaks'].fillna(\"English (fluently)\", inplace=True)"
      ]
    },
    {
      "cell_type": "code",
      "execution_count": null,
      "metadata": {
        "id": "d23UORzuf85n"
      },
      "outputs": [],
      "source": [
        "# Dropping missing rows in 'sign'\n",
        "profiles.dropna(subset=['sign'], inplace=True)"
      ]
    },
    {
      "cell_type": "code",
      "execution_count": null,
      "metadata": {
        "id": "k-94EAcOgwuD"
      },
      "outputs": [],
      "source": [
        "# Imputing missing rows in 'smokes' column with 'no'\n",
        "profiles['smokes'].fillna(\"no\", inplace=True)"
      ]
    },
    {
      "cell_type": "markdown",
      "metadata": {
        "id": "GcreF6gkHPuq"
      },
      "source": [
        "**The thing with location**\n",
        "\n",
        "Looking at the distribution of the 'location' column, about 99.8% of users are Californians. Given this fact, and that analysing the locations (mostly within this state) is resource-intensive. So I dropped this column."
      ]
    },
    {
      "cell_type": "code",
      "execution_count": null,
      "metadata": {
        "colab": {
          "base_uri": "https://localhost:8080/",
          "height": 562
        },
        "id": "bsf9a_OVHFm5",
        "outputId": "94696185-c16e-4099-a410-ddce0e157e1c"
      },
      "outputs": [
        {
          "name": "stdout",
          "output_type": "stream",
          "text": [
            "Percentage of people in California: 99.84621928475607\n"
          ]
        },
        {
          "data": {
            "image/png": "[encoded data removed]",
            "text/plain": [
              "<Figure size 800x600 with 1 Axes>"
            ]
          },
          "metadata": {},
          "output_type": "display_data"
        }
      ],
      "source": [
        "# Checking how many of the users (in %) are Californians\n",
        "california_count = profiles[profiles['location'].str.contains('california', case=False)].shape[0]\n",
        "total_people = profiles.shape[0]\n",
        "\n",
        "percentage_california = (california_count / total_people) * 100\n",
        "\n",
        "print(\"Percentage of people in California:\", percentage_california)\n",
        "\n",
        "# Setting colorblind-friendly palette\n",
        "sns.set_palette('colorblind')\n",
        "\n",
        "# Visualizing Californians vs. others\n",
        "plt.figure(figsize=(8, 6))\n",
        "sns.barplot(x=['Non-Californians', 'Californians'], y=[100 - percentage_california, percentage_california])\n",
        "plt.title('Percentage of Users in California')\n",
        "plt.ylabel('Percentage')\n",
        "plt.ylim(0, 100)\n",
        "plt.show()"
      ]
    },
    {
      "cell_type": "code",
      "execution_count": null,
      "metadata": {
        "id": "Ei_buuPSHsjh"
      },
      "outputs": [],
      "source": [
        "# Dropping 'location' column\n",
        "profiles.drop('location', axis=1, inplace=True)"
      ]
    },
    {
      "cell_type": "markdown",
      "metadata": {
        "id": "9idPhtvMSfzw"
      },
      "source": [
        "**The 'speaks' column**\n",
        "\n",
        "Most users are Californians, a state in  an English-speaking country. Moreover, there is not even one user who mentioned not speaking English. Therefore, this column is irrelevant for the purpouse of separating English and non-English speakers.\n",
        "\n",
        "Multilingualism might indicate different behavior than people who speak only English. Therefore, I wanted to mention if a person is multilingual and fluent in at least 2 languages.\n",
        "\n",
        "First, for people who reported on speaking English without mentioning their level, I assumed fluency and imputed with \"fluently\".\n",
        "\n",
        "Then, I counted how many languages people speak. If they are fluent in 2 languages or more, then I deemed them as true multilingual. If a person speaks more than one language, but not fluent in 2 languages or more (or else, speaks 7 languages poorly or just ok), I deemed them as somewhat multilinguals.\n",
        "\n",
        "I changed the name of the column from 'speaks' to 'multilingual' and converted it to numeric, where 0 indicate for users who speak only English, 1 for people who are somewhat multilinguals and 2 for true multilinguals."
      ]
    },
    {
      "cell_type": "code",
      "execution_count": null,
      "metadata": {
        "colab": {
          "base_uri": "https://localhost:8080/"
        },
        "id": "AHLiGElFSiaW",
        "outputId": "261ad814-df3a-4f9f-db6f-2cf0f31c8a72"
      },
      "outputs": [
        {
          "name": "stdout",
          "output_type": "stream",
          "text": [
            "Number of entries that don't contain English: 0\n"
          ]
        }
      ],
      "source": [
        "# Counting how many users don't speak English at all\n",
        "non_english_count = profiles[~profiles['speaks'].str.contains(\"English\", na=False, case=False)].shape[0]\n",
        "print(\"Number of entries that don't contain English:\", non_english_count)"
      ]
    },
    {
      "cell_type": "code",
      "execution_count": null,
      "metadata": {
        "colab": {
          "base_uri": "https://localhost:8080/"
        },
        "id": "zU6hq-EpSlyW",
        "outputId": "4be66f16-b238-4d1a-8859-1d76d425ceb9"
      },
      "outputs": [
        {
          "data": {
            "text/plain": [
              "(0,\n",
              " 2    14079\n",
              " 0    13083\n",
              " 1     3401\n",
              " Name: multilingual, dtype: int64)"
            ]
          },
          "execution_count": 35,
          "metadata": {},
          "output_type": "execute_result"
        }
      ],
      "source": [
        "# Imputing missing fluency for people who only speak English with 'fluently'\n",
        "profiles['speaks'] = profiles['speaks'].str.replace('english', 'english (fluently)')\n",
        "\n",
        "# Defining a function to classify multilingualism, where 0 means speaking only English, 1 for somewhat multilinguals and 2 for true multilinguals\n",
        "def classify_multilingual(speaks):\n",
        "    if ',' in speaks:\n",
        "        if speaks.count('(fluently)') >= 2:\n",
        "            return 2\n",
        "        else:\n",
        "            return 1\n",
        "    else:\n",
        "        return 0\n",
        "\n",
        "# Applying the function to the 'speaks' column to create the 'multilingual' column\n",
        "profiles['multilingual'] = profiles['speaks'].apply(classify_multilingual)\n",
        "\n",
        "non_english_count = profiles[~profiles['speaks'].str.contains(\"English\", na=False, case=False)].shape[0]\n",
        "non_english_count, profiles['multilingual'].value_counts()"
      ]
    },
    {
      "cell_type": "code",
      "execution_count": null,
      "metadata": {
        "id": "T5tnOgh1YhCo"
      },
      "outputs": [],
      "source": [
        "# Dropping 'speaks' column\n",
        "profiles.drop(columns=['speaks'], inplace=True)"
      ]
    },
    {
      "cell_type": "markdown",
      "metadata": {
        "id": "lyWjPIwShT14"
      },
      "source": [
        "**The 'religion' column**\n",
        "\n",
        "The distribution of the column includes a combination of one's religion (or lack of religion) and seriousness in religiousness.\n",
        "I made a function to extract and return only the name of the religion, without the religiousness level."
      ]
    },
    {
      "cell_type": "code",
      "execution_count": null,
      "metadata": {
        "colab": {
          "base_uri": "https://localhost:8080/",
          "height": 564
        },
        "id": "gGxqjKX5U0jW",
        "outputId": "1160a9e0-1bc9-46c5-a6ef-8b89059f8f2d"
      },
      "outputs": [
        {
          "data": {
            "image/png": "[encoded data removed]",
            "text/plain": [
              "<Figure size 800x600 with 1 Axes>"
            ]
          },
          "metadata": {},
          "output_type": "display_data"
        }
      ],
      "source": [
        "# Splitting the 'religion' column to include only the religion, not the religiousness level\n",
        "profiles['religion'] = profiles['religion'].str.split().str.get(0)\n",
        "\n",
        "# Setting colorblind-friendly palette with fewer colors\n",
        "palette = sns.color_palette(\"colorblind\", 9)\n",
        "\n",
        "# Creating the count plot with 'hue' assigned\n",
        "plt.figure(figsize=(8, 6))\n",
        "sns.countplot(data=profiles, y='religion', hue='religion', palette=palette, legend=False)\n",
        "plt.xlabel('Count')\n",
        "plt.ylabel('Religion')\n",
        "plt.title('Distribution of Religion')\n",
        "plt.show()"
      ]
    },
    {
      "cell_type": "markdown",
      "metadata": {
        "id": "Fp5DCxWsWcUC"
      },
      "source": [
        "**The 'sign' column**\n",
        "\n",
        "The distribution of the olumn includes a combination of one's sign and perception of importance for the user's sign. I wanted to keep only the person's sign."
      ]
    },
    {
      "cell_type": "code",
      "execution_count": null,
      "metadata": {
        "colab": {
          "base_uri": "https://localhost:8080/",
          "height": 636
        },
        "id": "BcrmNJI-Wtiz",
        "outputId": "782e32ba-6118-4788-b73d-98c22ecbf919"
      },
      "outputs": [
        {
          "name": "stderr",
          "output_type": "stream",
          "text": [
            "<ipython-input-38-54c001c35fff>:9: UserWarning: \n",
            "The palette list has fewer values (9) than needed (12) and will cycle, which may produce an uninterpretable plot.\n",
            "  sns.countplot(data=profiles, y='sign', hue='sign', palette=palette, legend=False)\n"
          ]
        },
        {
          "data": {
            "image/png": "[encoded data removed]",
            "text/plain": [
              "<Figure size 800x600 with 1 Axes>"
            ]
          },
          "metadata": {},
          "output_type": "display_data"
        }
      ],
      "source": [
        "# Splitting the 'sign' column to include only the sign, not the perception of importance\n",
        "profiles['sign'] = profiles['sign'].str.split().str.get(0)\n",
        "\n",
        "# Setting colorblind-friendly palette with fewer colors\n",
        "palette = sns.color_palette(\"colorblind\", 9)\n",
        "\n",
        "# Creating the count plot with 'hue' assigned\n",
        "plt.figure(figsize=(8, 6))\n",
        "sns.countplot(data=profiles, y='sign', hue='sign', palette=palette, legend=False)\n",
        "plt.xlabel('Count')\n",
        "plt.ylabel('Sign')\n",
        "plt.title('Distribution of Signs')\n",
        "plt.show()"
      ]
    },
    {
      "cell_type": "markdown",
      "metadata": {
        "id": "9oc5kt8dZv4p"
      },
      "source": [
        "**The 'age' column**\n",
        "\n",
        "I turned the ages into decades, and refered any user 60 years-old or more as 60s+."
      ]
    },
    {
      "cell_type": "code",
      "execution_count": null,
      "metadata": {
        "colab": {
          "base_uri": "https://localhost:8080/"
        },
        "id": "wYzZCrZtZvS3",
        "outputId": "235af937-c539-4ae5-e566-3c4760c97f90"
      },
      "outputs": [
        {
          "name": "stdout",
          "output_type": "stream",
          "text": [
            "0    20s\n",
            "1    30s\n",
            "5    20s\n",
            "7    30s\n",
            "8    20s\n",
            "Name: age, dtype: object\n"
          ]
        }
      ],
      "source": [
        "# Defining a function to categorize ages into decades\n",
        "def categorize_age(age):\n",
        "    if age < 20:\n",
        "        return '10s'\n",
        "    elif age < 30:\n",
        "        return '20s'\n",
        "    elif age < 40:\n",
        "        return '30s'\n",
        "    elif age < 50:\n",
        "        return '40s'\n",
        "    elif age < 60:\n",
        "        return '50s'\n",
        "    else:\n",
        "        return '60s+'\n",
        "\n",
        "# Applying the function to the 'age' column\n",
        "profiles['age'] = profiles['age'].apply(categorize_age)\n",
        "\n",
        "# Display the resulting DataFrame\n",
        "print(profiles['age'].head())"
      ]
    },
    {
      "cell_type": "markdown",
      "metadata": {
        "id": "YIetw8XpaOGY"
      },
      "source": [
        "**The 'job' column**\n",
        "\n",
        "There are many working types mentioned in OKcupid, and also many options for people who don't. I merged all the working types mentioned (except for military) as 'working_specified'.\n",
        "\n",
        "The 'other' option refers both for people who work in different indsutry than the ones mentioned in the 'working option_specified', and people who don't see themselves as unemployed, students, etc. To be cautious, I kept 'others' as it is."
      ]
    },
    {
      "cell_type": "code",
      "execution_count": null,
      "metadata": {
        "colab": {
          "base_uri": "https://localhost:8080/"
        },
        "id": "zCcZLERoaukH",
        "outputId": "34cf5c84-8f7f-4a8d-ec39-67c473312479"
      },
      "outputs": [
        {
          "data": {
            "text/plain": [
              "working_specified    21043\n",
              "other                 4250\n",
              "student               2932\n",
              "rather not to say     1631\n",
              "rather not say         244\n",
              "unemployed             192\n",
              "retired                153\n",
              "military               118\n",
              "Name: job, dtype: int64"
            ]
          },
          "execution_count": 40,
          "metadata": {},
          "output_type": "execute_result"
        }
      ],
      "source": [
        "# Merging any working option possible to 'working_option_specified'\n",
        "working_option_specified = [\n",
        "    'science / tech / engineering', 'computer / hardware / software',\n",
        "    'artistic / musical / writer', 'sales / marketing / biz dev',\n",
        "    'medicine / health', 'education / academia', 'executive / management',\n",
        "    'banking / financial / real estate', 'entertainment / media',\n",
        "    'law / legal services', 'hospitality / travel', 'construction / craftsmanship',\n",
        "    'clerical / administrative', 'political / government', 'transportation'\n",
        "]\n",
        "\n",
        "# Replacing those working options with 'working_option_specified'\n",
        "profiles['job'] = profiles['job'].replace(working_option_specified, 'working_specified')\n",
        "\n",
        "# Checking\n",
        "profiles['job'].value_counts()"
      ]
    },
    {
      "cell_type": "markdown",
      "metadata": {
        "id": "qhLkpTaUnIcy"
      },
      "source": [
        "**Checking duplicates**"
      ]
    },
    {
      "cell_type": "code",
      "execution_count": null,
      "metadata": {
        "colab": {
          "base_uri": "https://localhost:8080/"
        },
        "id": "LLoWrhB1nIIk",
        "outputId": "813c01b2-5100-47aa-efb7-2214f11f5ba2"
      },
      "outputs": [
        {
          "data": {
            "text/plain": [
              "158"
            ]
          },
          "execution_count": 41,
          "metadata": {},
          "output_type": "execute_result"
        }
      ],
      "source": [
        "# Checking for duplicates\n",
        "profiles.duplicated().sum()"
      ]
    },
    {
      "cell_type": "code",
      "execution_count": null,
      "metadata": {
        "id": "kWjtLq14ymdc"
      },
      "outputs": [],
      "source": [
        "# Dropping duplicates\n",
        "profiles.drop_duplicates(inplace=True)"
      ]
    },
    {
      "cell_type": "markdown",
      "metadata": {
        "id": "4CkmDcXlnXtX"
      },
      "source": [
        "# Preparing for ML"
      ]
    },
    {
      "cell_type": "markdown",
      "metadata": {
        "id": "I3ZvDUGannL-"
      },
      "source": [
        "**Separating features and target variable**"
      ]
    },
    {
      "cell_type": "code",
      "execution_count": null,
      "metadata": {
        "id": "_jZ8qNPnXmGL"
      },
      "outputs": [],
      "source": [
        "X = profiles.drop('drinks', axis=1)\n",
        "y = profiles['drinks']"
      ]
    },
    {
      "cell_type": "markdown",
      "metadata": {
        "id": "oAa3I7jAGgmA"
      },
      "source": [
        "**Identifying the numerical and cateogircla columns**"
      ]
    },
    {
      "cell_type": "code",
      "execution_count": null,
      "metadata": {
        "id": "uUC2lGh0mHO7"
      },
      "outputs": [],
      "source": [
        "numerical_cols = X.select_dtypes(include=['int64', 'float64']).columns\n",
        "categorical_cols = X.select_dtypes(include=['object']).columns"
      ]
    },
    {
      "cell_type": "markdown",
      "metadata": {
        "id": "5N7gw729Gle0"
      },
      "source": [
        "**Defining the ColumnTransformer**"
      ]
    },
    {
      "cell_type": "code",
      "execution_count": null,
      "metadata": {
        "id": "GaNdCFtyuLGC"
      },
      "outputs": [],
      "source": [
        "preprocessor = ColumnTransformer(\n",
        "    transformers=[\n",
        "        ('num', StandardScaler(), numerical_cols),\n",
        "        ('cat', OneHotEncoder(handle_unknown='ignore'), categorical_cols)\n",
        "    ])"
      ]
    },
    {
      "cell_type": "markdown",
      "metadata": {
        "id": "pHZFutCHGvws"
      },
      "source": [
        "**Splitting the dataset into training, validation, and test sets**"
      ]
    },
    {
      "cell_type": "code",
      "execution_count": null,
      "metadata": {
        "id": "cFmtQ13wuIL2"
      },
      "outputs": [],
      "source": [
        "X_train, X_temp, y_train, y_temp = train_test_split(X, y, test_size=0.3, random_state=42)\n",
        "X_val, X_test, y_val, y_test = train_test_split(X_temp, y_temp, test_size=0.5, random_state=42)"
      ]
    },
    {
      "cell_type": "markdown",
      "metadata": {
        "id": "YPyhFtZOG1fh"
      },
      "source": [
        "**Creating a pipeline with preprocessing and TruncatedSVD**"
      ]
    },
    {
      "cell_type": "code",
      "execution_count": null,
      "metadata": {
        "id": "V3waM_3vG8ox"
      },
      "outputs": [],
      "source": [
        "pipeline = Pipeline(steps=[('preprocessor', preprocessor),\n",
        "                           ('svd', TruncatedSVD(n_components=50))])"
      ]
    },
    {
      "cell_type": "markdown",
      "metadata": {
        "id": "_FSKtGW8I-Dk"
      },
      "source": [
        "**Applying the pipeline to the training data and transforming the training, validation and test sets**"
      ]
    },
    {
      "cell_type": "code",
      "execution_count": null,
      "metadata": {
        "colab": {
          "base_uri": "https://localhost:8080/"
        },
        "id": "Ov3VybcgJD0L",
        "outputId": "34babaa9-53c1-4022-c48d-6e989a35987a"
      },
      "outputs": [
        {
          "data": {
            "text/plain": [
              "((21283, 50), (4561, 50), (4561, 50))"
            ]
          },
          "execution_count": 48,
          "metadata": {},
          "output_type": "execute_result"
        }
      ],
      "source": [
        "X_train_transformed = pipeline.fit_transform(X_train)\n",
        "X_val_transformed = pipeline.transform(X_val)\n",
        "X_test_transformed = pipeline.transform(X_test)\n",
        "X_train_transformed.shape, X_val_transformed.shape, X_test_transformed.shape"
      ]
    },
    {
      "cell_type": "markdown",
      "metadata": {
        "id": "COxdsTfzzLdg"
      },
      "source": [
        "# ML"
      ]
    },
    {
      "cell_type": "markdown",
      "metadata": {
        "id": "Gz0QfXHQSxCo"
      },
      "source": [
        "**Running 3 models in ensemble**"
      ]
    },
    {
      "cell_type": "code",
      "execution_count": null,
      "metadata": {
        "colab": {
          "base_uri": "https://localhost:8080/"
        },
        "id": "4rsJ5mHvS22Y",
        "outputId": "7c5aca1f-9026-4029-80de-890117996303"
      },
      "outputs": [
        {
          "data": {
            "text/plain": [
              "0.7230870423152818"
            ]
          },
          "execution_count": 49,
          "metadata": {},
          "output_type": "execute_result"
        }
      ],
      "source": [
        "#Defining the ML models withnin the ensemble model**\n",
        "rf_classifier = RandomForestClassifier(n_estimators=100, random_state=42)\n",
        "logistic_regression = LogisticRegression(max_iter=200, solver='liblinear', random_state=42)\n",
        "gradient_boosting = GradientBoostingClassifier(n_estimators=10, random_state=42)\n",
        "\n",
        "# Creating the ensemble model with VotingClassifier\n",
        "ensemble_model = VotingClassifier(estimators=[\n",
        "    ('rf', rf_classifier),\n",
        "    ('lr', logistic_regression),\n",
        "    ('gb', gradient_boosting)],\n",
        "    voting='hard')\n",
        "\n",
        "# Training the ensemble model on the transformed training set\n",
        "ensemble_model.fit(X_train_transformed, y_train)\n",
        "\n",
        "# Predicting on the transformed validation set with the ensemble model\n",
        "y_val_pred_ensemble = ensemble_model.predict(X_val_transformed)\n",
        "\n",
        "# Calculating and printing the accuracy on the validation set for the ensemble model\n",
        "val_accuracy_ensemble = accuracy_score(y_val, y_val_pred_ensemble)\n",
        "val_accuracy_ensemble"
      ]
    },
    {
      "cell_type": "code",
      "execution_count": null,
      "metadata": {
        "colab": {
          "base_uri": "https://localhost:8080/"
        },
        "id": "ejMXvDfcm0cQ",
        "outputId": "ba6b1588-a69b-48f0-d712-bb86792b317f"
      },
      "outputs": [
        {
          "name": "stdout",
          "output_type": "stream",
          "text": [
            "Precision: 0.5231281036399373\n",
            "Recall: 0.7230870423152818\n",
            "F1 Score: 0.6070655687996219\n"
          ]
        },
        {
          "name": "stderr",
          "output_type": "stream",
          "text": [
            "/usr/local/lib/python3.10/dist-packages/sklearn/metrics/_classification.py:1344: UndefinedMetricWarning: Precision is ill-defined and being set to 0.0 in labels with no predicted samples. Use `zero_division` parameter to control this behavior.\n",
            "  _warn_prf(average, modifier, msg_start, len(result))\n"
          ]
        }
      ],
      "source": [
        "# Calculating precision, recall, and F1 score\n",
        "precision = precision_score(y_val, y_val_pred_ensemble, average='weighted')\n",
        "recall = recall_score(y_val, y_val_pred_ensemble, average='weighted')\n",
        "f1 = f1_score(y_val, y_val_pred_ensemble, average='weighted')\n",
        "\n",
        "# Printing precision, recall, and F1 score\n",
        "print(f\"Precision: {precision}\")\n",
        "print(f\"Recall: {recall}\")\n",
        "print(f\"F1 Score: {f1}\")"
      ]
    },
    {
      "cell_type": "code",
      "execution_count": null,
      "metadata": {
        "colab": {
          "base_uri": "https://localhost:8080/",
          "height": 569
        },
        "id": "Rk7tXSfpm2Hx",
        "outputId": "d88c3f8f-4b8c-478c-e3ed-eb9f73da15d7"
      },
      "outputs": [
        {
          "data": {
            "image/png": "[encoded data removed]",
            "text/plain": [
              "<Figure size 800x600 with 2 Axes>"
            ]
          },
          "metadata": {},
          "output_type": "display_data"
        }
      ],
      "source": [
        "# Generating a confusion matrix\n",
        "conf_matrix = confusion_matrix(y_val, y_val_pred_ensemble)\n",
        "\n",
        "# Plotting the confusion matrix\n",
        "fig, ax = plt.subplots(figsize=(8, 6))\n",
        "cax = ax.matshow(conf_matrix, cmap=plt.cm.Blues)\n",
        "fig.colorbar(cax)\n",
        "plt.xlabel('Predicted')\n",
        "plt.ylabel('True')\n",
        "plt.title('Confusion Matrix')\n",
        "plt.show()"
      ]
    },
    {
      "cell_type": "markdown",
      "metadata": {
        "id": "GU88mM2UKQ3J"
      },
      "source": [
        "# Tuning the model"
      ]
    },
    {
      "cell_type": "code",
      "execution_count": null,
      "metadata": {
        "colab": {
          "background_save": true
        },
        "id": "KtM-Qa3OJq_t",
        "outputId": "220082d6-3ee0-494e-d016-32717be666f7"
      },
      "outputs": [
        {
          "name": "stdout",
          "output_type": "stream",
          "text": [
            "Best parameters: {'max_depth': 10, 'min_samples_leaf': 1, 'min_samples_split': 2, 'n_estimators': 100}\n",
            "Best cross-validation accuracy: 0.7192595212485052\n",
            "Validation Accuracy with Best Parameters: 0.7233062924797193\n"
          ]
        }
      ],
      "source": [
        "# Define the parameter grid to search over\n",
        "param_grid = {\n",
        "    'n_estimators': [100, 200],  # Number of trees in the forest\n",
        "    'max_depth': [None, 10, 20],  # Maximum depth of the tree\n",
        "    'min_samples_split': [2, 4],  # Minimum number of samples required to split an internal node\n",
        "    'min_samples_leaf': [1, 2]  # Minimum number of samples required to be at a leaf node\n",
        "}\n",
        "\n",
        "# Create the GridSearchCV object\n",
        "grid_search = GridSearchCV(RandomForestClassifier(random_state=42), param_grid, cv=5, scoring='accuracy', n_jobs=-1)\n",
        "\n",
        "# Fit the grid search to the data\n",
        "grid_search.fit(X_train_transformed, y_train)\n",
        "\n",
        "# Print the best parameters and the corresponding accuracy\n",
        "print(\"Best parameters:\", grid_search.best_params_)\n",
        "print(\"Best cross-validation accuracy:\", grid_search.best_score_)\n",
        "\n",
        "# Predict on the transformed validation set using the best found parameters\n",
        "y_val_pred_best = grid_search.predict(X_val_transformed)\n",
        "\n",
        "# Calculate and print the accuracy on the validation set\n",
        "val_accuracy_best = accuracy_score(y_val, y_val_pred_best)\n",
        "print(\"Validation Accuracy with Best Parameters:\", val_accuracy_best)"
      ]
    }
  ],
  "metadata": {
    "colab": {
      "machine_shape": "hm",
      "provenance": [],
      "mount_file_id": "1qu4LYiT8aa0Fkb2iuX7BjvLNv-VBCatY",
      "authorship_tag": "ABX9TyOrpNsm4o5GnwNZ8uh7OAQL",
      "include_colab_link": true
    },
    "kernelspec": {
      "display_name": "Python 3",
      "name": "python3"
    },
    "language_info": {
      "name": "python"
    }
  },
  "nbformat": 4,
  "nbformat_minor": 0
}